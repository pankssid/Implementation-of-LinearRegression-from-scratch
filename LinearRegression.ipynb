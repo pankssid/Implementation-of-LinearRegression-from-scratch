{
 "cells": [
  {
   "cell_type": "code",
   "execution_count": 1,
   "metadata": {},
   "outputs": [],
   "source": [
    "import numpy as np\n",
    "import matplotlib.pyplot as plt\n",
    "%matplotlib inline\n",
    "from sklearn.datasets import make_regression"
   ]
  },
  {
   "cell_type": "code",
   "execution_count": 2,
   "metadata": {},
   "outputs": [
    {
     "name": "stdout",
     "output_type": "stream",
     "text": [
      "(500, 1) (500,)\n"
     ]
    }
   ],
   "source": [
    "X, y = make_regression(n_samples=500, n_features=1, bias=4.2,noise=5.1)\n",
    "print (X.shape, y.shape)"
   ]
  },
  {
   "cell_type": "code",
   "execution_count": 3,
   "metadata": {},
   "outputs": [
    {
     "name": "stdout",
     "output_type": "stream",
     "text": [
      "400\n",
      "(400, 1)\n",
      "(100, 1)\n",
      "(100,)\n"
     ]
    }
   ],
   "source": [
    "split = int(0.8*X.shape[0])\n",
    "print (split)\n",
    "\n",
    "X_train = X[:split]\n",
    "X_test = X[split:]\n",
    "\n",
    "y_train = y[:split]\n",
    "y_test = y[split:]\n",
    "\n",
    "print (X_train.shape)\n",
    "print (X_test.shape)\n",
    "\n",
    "print (y_test.shape)"
   ]
  },
  {
   "cell_type": "code",
   "execution_count": null,
   "metadata": {},
   "outputs": [],
   "source": []
  },
  {
   "cell_type": "code",
   "execution_count": 12,
   "metadata": {},
   "outputs": [],
   "source": [
    "## Methods we need to write\n",
    "def hypothesis(x,w):\n",
    "    x0 = 1\n",
    "    return w[0]*x0 + x*w[1]\n",
    "\n",
    "def get_error(x,w, y_true):\n",
    "    err = 0.0\n",
    "    m = x.shape[0]\n",
    "    \n",
    "    for ix in range(m):\n",
    "        err += (y_true[ix] - hypothesis(x[ix], w))**2   #MSE Error\n",
    "        \n",
    "    err = err/2*m\n",
    "    return err\n",
    "#Search Algorithm\n",
    "#Linear Search\n",
    "#Binary Search\n",
    "#Random Search\n",
    "#Hill clibing Searching\n"
   ]
  },
  {
   "cell_type": "code",
   "execution_count": 13,
   "metadata": {},
   "outputs": [],
   "source": [
    "#Mini Batch Gradient Descent\n",
    "\n",
    "def get_batch_grad(x,w,y_true):\n",
    "    grad_0=0.0\n",
    "    grad_1=0.0\n",
    "    \n",
    "    m=x.shape[0]\n",
    "    k=np.random.choice(m)\n",
    "    for ix in range(0,k):\n",
    "        grad_0 += (y_true[ix] - hypothesis(x[ix] , w ))*(-1)\n",
    "        grad_1 += (y_true[ix] - hypothesis(x[ix] , w ))*(-1*x[ix])\n",
    "        \n",
    "    grad_0=grad_0/m\n",
    "    grad_1=grad_1/m\n",
    "    return [grad_0,grad_1]"
   ]
  },
  {
   "cell_type": "code",
   "execution_count": 14,
   "metadata": {},
   "outputs": [],
   "source": [
    "def get_grad(x,w,y_true):\n",
    "    grad_0 = 0.0\n",
    "    grad_1 = 0.0\n",
    "    \n",
    "    m = x.shape[0]\n",
    "    \n",
    "    for ix in range(m):\n",
    "        grad_0 += (y_true[ix] - hypothesis(x[ix], w))*(-1)\n",
    "        grad_1 += (y_true[ix] - hypothesis(x[ix], w))*(-1*x[ix])\n",
    "        \n",
    "    grad_0 = grad_0/m\n",
    "    grad_1 = grad_1/m\n",
    "    \n",
    "    return [grad_0, grad_1]\n",
    "\n",
    "def get_stochastic_grad(x_sample,w,y_true):\n",
    "    \n",
    "    grad_0 = 0.0\n",
    "    grad_1 = 0.0\n",
    "    \n",
    "    grad_0 = (y_true - hypothesis(x_sample, w))*(-1)\n",
    "    grad_1 = (y_true - hypothesis(x_sample, w))*(-1*x_sample)\n",
    "    \n",
    "    return [grad_0, grad_1]"
   ]
  },
  {
   "cell_type": "code",
   "execution_count": 15,
   "metadata": {},
   "outputs": [],
   "source": [
    "def gradient_descent(x,w,y_true, learning_rate=0.1):\n",
    "    error = get_error(x,w, y_true)\n",
    "    \n",
    "    [grad_0, grad_1] = get_grad(x, w, y_true)\n",
    "    \n",
    "    w[0] = w[0] - learning_rate*grad_0\n",
    "    w[1] = w[1] - learning_rate*grad_1\n",
    "    \n",
    "    return error, w"
   ]
  },
  {
   "cell_type": "code",
   "execution_count": 16,
   "metadata": {},
   "outputs": [],
   "source": [
    "def stochastic_gradient_descent(x, w, y_true, learning_rate=0.1):\n",
    "    error = get_error(x, w, y_true)\n",
    "    \n",
    "    for ix in range(x.shape[0]):\n",
    "        [grad_0, grad_1] = get_stochastic_grad(x[ix], w, y_true[ix])\n",
    "        \n",
    "        w[0] = w[0] - learning_rate*grad_0\n",
    "        w[1] = w[1] - learning_rate*grad_1\n",
    "    \n",
    "    return error, w"
   ]
  },
  {
   "cell_type": "code",
   "execution_count": 17,
   "metadata": {
    "scrolled": true
   },
   "outputs": [
    {
     "name": "stdout",
     "output_type": "stream",
     "text": [
      "[ 3.16960175 43.94368342]\n"
     ]
    },
    {
     "data": {
      "image/png": "[encoded data removed]",
      "text/plain": [
       "<Figure size 432x288 with 1 Axes>"
      ]
     },
     "metadata": {},
     "output_type": "display_data"
    },
    {
     "name": "stdout",
     "output_type": "stream",
     "text": [
      "[2470573.34077764]\n"
     ]
    }
   ],
   "source": [
    "W=np.array([0.1,0.1])\n",
    "loss=[]\n",
    "for ix in range(400):\n",
    "    er,w=stochastic_gradient_descent(X_train,W,y_train,learning_rate=0.1)\n",
    "    loss.append(er)\n",
    "print(W)\n",
    "\n",
    "plt.plot(loss)\n",
    "plt.show()\n",
    "print(loss[-1])"
   ]
  },
  {
   "cell_type": "code",
   "execution_count": 18,
   "metadata": {},
   "outputs": [],
   "source": [
    "def batch_gradient_descent(x,w,y_true,learning_rate=0.1):\n",
    "    error=get_error(x,w,y_true)\n",
    "    \n",
    "    [grad_0,grad_1]=get_batch_grad(x,w,y_true)\n",
    "    \n",
    "    w[0] = w[0] - learning_rate * grad_0\n",
    "    w[1] = w[1] - learning_rate * grad_1\n",
    "    \n",
    "    return error,w"
   ]
  },
  {
   "cell_type": "code",
   "execution_count": 19,
   "metadata": {},
   "outputs": [],
   "source": [
    "W = np.array([0.1, 0.1])\n",
    "loss = []"
   ]
  },
  {
   "cell_type": "code",
   "execution_count": 20,
   "metadata": {},
   "outputs": [
    {
     "name": "stdout",
     "output_type": "stream",
     "text": [
      "[ 3.9970249  41.37397838]\n"
     ]
    }
   ],
   "source": [
    "for ix in range(400):\n",
    "    er, W = gradient_descent(X_train, W, y_train, learning_rate=0.01)\n",
    "    loss.append(er)\n",
    "    \n",
    "    \n",
    "print( W)"
   ]
  },
  {
   "cell_type": "code",
   "execution_count": 21,
   "metadata": {},
   "outputs": [
    {
     "data": {
      "image/png": "[encoded data removed]",
      "text/plain": [
       "<Figure size 432x288 with 1 Axes>"
      ]
     },
     "metadata": {},
     "output_type": "display_data"
    },
    {
     "name": "stdout",
     "output_type": "stream",
     "text": [
      "[2189267.45326516]\n"
     ]
    }
   ],
   "source": [
    "plt.plot(loss)\n",
    "plt.show()\n",
    "\n",
    "print (loss[-1])"
   ]
  },
  {
   "cell_type": "code",
   "execution_count": 80,
   "metadata": {},
   "outputs": [
    {
     "name": "stdout",
     "output_type": "stream",
     "text": [
      "[ 3.98854862 25.50284123]\n"
     ]
    },
    {
     "data": {
      "image/png": "[encoded data removed]",
      "text/plain": [
       "<Figure size 432x288 with 1 Axes>"
      ]
     },
     "metadata": {},
     "output_type": "display_data"
    },
    {
     "name": "stdout",
     "output_type": "stream",
     "text": [
      "[2101791.55438518]\n"
     ]
    }
   ],
   "source": [
    "W = np.array([0.1, 0.1])\n",
    "loss = []\n",
    "for ix in range(400):\n",
    "    er,W=batch_gradient_descent(X_train,W,y_train,learning_rate=0.1)\n",
    "    loss.append(er)\n",
    "    \n",
    "print(W)\n",
    "plt.plot(loss)\n",
    "plt.show()\n",
    "print(loss[-1])"
   ]
  },
  {
   "cell_type": "code",
   "execution_count": 29,
   "metadata": {},
   "outputs": [],
   "source": [
    "from sklearn.linear_model import LinearRegression"
   ]
  },
  {
   "cell_type": "code",
   "execution_count": 30,
   "metadata": {},
   "outputs": [
    {
     "data": {
      "text/plain": [
       "LinearRegression(copy_X=True, fit_intercept=True, n_jobs=1, normalize=False)"
      ]
     },
     "execution_count": 30,
     "metadata": {},
     "output_type": "execute_result"
    }
   ],
   "source": [
    "lr = LinearRegression()\n",
    "lr.fit(X_train, y_train)"
   ]
  },
  {
   "cell_type": "code",
   "execution_count": 31,
   "metadata": {},
   "outputs": [
    {
     "data": {
      "text/plain": [
       "0.9977589007492772"
      ]
     },
     "execution_count": 31,
     "metadata": {},
     "output_type": "execute_result"
    }
   ],
   "source": [
    "lr.score(X_test, y_test)"
   ]
  },
  {
   "cell_type": "code",
   "execution_count": 32,
   "metadata": {},
   "outputs": [
    {
     "data": {
      "text/plain": [
       "array([-7.96959651e+01,  2.24876931e+02, -1.24139664e+02, -1.08910450e+02,\n",
       "       -5.52977130e+01,  2.76570749e+01,  5.29398173e+01,  6.21309385e+01,\n",
       "       -3.72251665e+01, -1.05736842e+02, -1.25110323e+02, -1.09466177e+02,\n",
       "       -4.32761942e+00, -6.57905569e+01, -6.74689951e+01, -1.45135735e+02,\n",
       "        6.80139764e+01, -4.65264462e+00,  4.25029298e+01,  9.31634582e+01,\n",
       "       -2.13449505e+01,  9.22029605e+01,  1.22542533e+02, -8.86024133e+01,\n",
       "       -7.45854235e+01,  5.49997249e+01, -1.29994127e+02, -2.84784629e+02,\n",
       "        1.36922009e+02, -2.25050093e+01,  1.86637914e-01, -1.49430100e+02,\n",
       "        1.25256606e+01, -7.23573032e+01,  7.73560374e+01,  1.09923899e+02,\n",
       "       -7.85961713e+00,  1.52162863e+01,  6.80644818e+01,  8.15335671e+01,\n",
       "       -3.06165923e+01,  6.73777879e+01,  5.13848230e+01,  1.97949880e+02,\n",
       "        5.82472882e+00,  2.58838424e+01, -8.78072461e+01,  3.33445263e+01,\n",
       "       -4.34088541e+01,  1.49584627e+02, -1.87133569e+02,  1.10888464e+01,\n",
       "        5.65218492e+01,  7.30715251e+01,  1.39732806e+02, -1.15680400e+02,\n",
       "       -2.35583516e+01,  1.18785897e+02, -3.06508617e+01,  1.46753069e+02,\n",
       "       -2.87250029e+01,  7.57351387e+01, -6.78794525e-01,  1.47160436e+01,\n",
       "        9.18384649e+01,  3.40595371e+01, -5.21658728e+01,  6.78192252e+01,\n",
       "       -5.22050879e+01,  1.36833390e+02,  2.18750106e+02,  1.38018809e+02,\n",
       "       -1.59470482e+02,  3.94146325e+01, -1.37294869e+02, -3.17369718e+02,\n",
       "       -6.20289057e+01,  1.21664443e+02, -1.86850526e+02,  9.78407535e+00,\n",
       "       -1.25685632e+02, -2.93557599e+02,  1.75808732e+02,  8.45201467e+01,\n",
       "       -5.80333861e+01, -5.41592590e-01, -2.40058448e+01,  1.39371465e+02,\n",
       "       -8.78424773e+01, -4.36230443e+00, -1.16257538e+02, -6.56349572e+01,\n",
       "       -1.05803552e+02, -2.76463985e+01,  5.80185289e+01,  2.26545581e+01,\n",
       "        1.50134889e+02,  9.32501200e+01,  2.21122928e+01,  2.57015775e+02])"
      ]
     },
     "execution_count": 32,
     "metadata": {},
     "output_type": "execute_result"
    }
   ],
   "source": [
    "lr.predict(X_test)"
   ]
  },
  {
   "cell_type": "code",
   "execution_count": null,
   "metadata": {},
   "outputs": [],
   "source": []
  }
 ],
 "metadata": {
  "kernelspec": {
   "display_name": "Python 3",
   "language": "python",
   "name": "python3"
  },
  "language_info": {
   "codemirror_mode": {
    "name": "ipython",
    "version": 3
   },
   "file_extension": ".py",
   "mimetype": "text/x-python",
   "name": "python",
   "nbconvert_exporter": "python",
   "pygments_lexer": "ipython3",
   "version": "3.6.5"
  }
 },
 "nbformat": 4,
 "nbformat_minor": 2
}
